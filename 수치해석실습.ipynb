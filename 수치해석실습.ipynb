{
 "cells": [
  {
   "cell_type": "markdown",
   "metadata": {},
   "source": [
    "# 수치해석기법 실습 {.unnumbered}"
   ]
  },
  {
   "cell_type": "code",
   "execution_count": 2,
   "metadata": {},
   "outputs": [
    {
     "data": {
      "text/plain": [
       "'/Users/hwan/Desktop/Homepage/study_24fall/실습'"
      ]
     },
     "execution_count": 2,
     "metadata": {},
     "output_type": "execute_result"
    }
   ],
   "source": [
    "import os\n",
    "if os.getcwd()!='/Users/hwan/Desktop/Homepage/study_24fall/실습':\n",
    "    os.chdir('실습')\n",
    "os.getcwd()"
   ]
  },
  {
   "cell_type": "markdown",
   "metadata": {},
   "source": [
    "## Ch3. Linear system"
   ]
  },
  {
   "cell_type": "markdown",
   "metadata": {},
   "source": [
    "### Equations"
   ]
  },
  {
   "cell_type": "code",
   "execution_count": 64,
   "metadata": {},
   "outputs": [],
   "source": [
    "import numpy as np\n",
    "from scipy.linalg import lu\n",
    "from numpy.linalg import eig, cholesky, qr, svd\n",
    "import time\n",
    "\n",
    "# 예제 행렬 A와 벡터 b 정의\n",
    "A = np.array([[1,2,3],[3,2,1],[5,1,1]], dtype=float)\n",
    "b = np.array([12,10,8], dtype=float)\n",
    "\n",
    "#\n",
    "n = 5\n",
    "A = np.random.randn(n, n)\n",
    "b = np.random.randn(n)"
   ]
  },
  {
   "cell_type": "code",
   "execution_count": 65,
   "metadata": {},
   "outputs": [],
   "source": [
    "###################################\n",
    "# Forward / Backward Substitution\n",
    "###################################\n",
    "def forward(L, b):\n",
    "    # 전방 대입 (Ly = Pb)\n",
    "    y = np.zeros_like(b)\n",
    "    y[0] = b[0]/L[0,0]\n",
    "    for i in range(1,len(y)):\n",
    "        y[i] = (b[i] - np.dot(L[i, :i], y[:i])) / L[i,i]\n",
    "    return y\n",
    "\n",
    "def backward(U, y):\n",
    "    # 후방 대입 (Ux = y)\n",
    "    x = np.zeros_like(y)\n",
    "    x[-1] = y[-1] / U[-1,-1]\n",
    "    for i in range(len(x)-2, -1, -1):\n",
    "        x[i] = (y[i] - np.dot(U[i, i+1:], x[i+1:])) / U[i, i]\n",
    "    return x"
   ]
  },
  {
   "cell_type": "code",
   "execution_count": 66,
   "metadata": {},
   "outputs": [],
   "source": [
    "###################################\n",
    "# LU Decomposition\n",
    "###################################\n",
    "# LU 분해 수행: A = P @ L @ U\n",
    "t0 = time.time()\n",
    "P, L, U = lu(A)\n",
    "Pb = np.dot(P.T, b)\n",
    "y = forward(L, Pb)\n",
    "x = backward(U, y)\n",
    "t1 = time.time()"
   ]
  },
  {
   "cell_type": "code",
   "execution_count": 67,
   "metadata": {},
   "outputs": [
    {
     "name": "stdout",
     "output_type": "stream",
     "text": [
      "Solution x from PLU decomposition:\n",
      "[ 12.76083942   2.28155216 -26.85469595 -23.45033461  28.17326524]\n",
      "\n",
      "Solution x from A inverse\n",
      "[ 12.76083942   2.28155216 -26.85469595 -23.45033461  28.17326524]\n"
     ]
    }
   ],
   "source": [
    "# 결과 출력\n",
    "print(\"Solution x from PLU decomposition:\")\n",
    "print(x)\n",
    "\n",
    "print(\"\\nSolution x from A inverse\")\n",
    "print(np.linalg.inv(A).dot(b))"
   ]
  },
  {
   "cell_type": "code",
   "execution_count": 68,
   "metadata": {},
   "outputs": [
    {
     "name": "stdout",
     "output_type": "stream",
     "text": [
      "[ 0.67444857+1.16816178j  0.67444857-1.16816178j  0.08484185+0.j\n",
      " -1.10418616+0.68605571j -1.10418616-0.68605571j]\n"
     ]
    }
   ],
   "source": [
    "###################################\n",
    "#cholesky decomposition\n",
    "###################################\n",
    "#check whether A is positive definite\n",
    "eigen_values, eigen_vectors = eig(A)\n",
    "print(eigen_values)\n",
    "#c = cholesky(A)  #error"
   ]
  },
  {
   "cell_type": "code",
   "execution_count": 69,
   "metadata": {},
   "outputs": [
    {
     "name": "stdout",
     "output_type": "stream",
     "text": [
      "B = \n",
      " [[ 6.75980329  2.42615302 -1.43962748  3.22213589 -1.98014089]\n",
      " [ 2.42615302  3.44204392 -0.39668661  1.96145718 -0.18451717]\n",
      " [-1.43962748 -0.39668661  2.02620681  0.20972367  2.79204537]\n",
      " [ 3.22213589  1.96145718  0.20972367  2.87802662  0.9190702 ]\n",
      " [-1.98014089 -0.18451717  2.79204537  0.9190702   4.31655632]] \n",
      "\n"
     ]
    }
   ],
   "source": [
    "B = A.T @ A\n",
    "print(\"B = \\n\", B, '\\n')"
   ]
  },
  {
   "cell_type": "code",
   "execution_count": 70,
   "metadata": {},
   "outputs": [
    {
     "name": "stdout",
     "output_type": "stream",
     "text": [
      "Eigen values =  [1.07007907e+01 6.31151224e+00 2.00747918e+00 1.24979393e-03\n",
      " 4.01605076e-01]\n"
     ]
    }
   ],
   "source": [
    "eigen_values, eigen_vectors = eig(B)\n",
    "print(\"Eigen values = \", eigen_values)"
   ]
  },
  {
   "cell_type": "code",
   "execution_count": 71,
   "metadata": {},
   "outputs": [
    {
     "name": "stdout",
     "output_type": "stream",
     "text": [
      "True \n",
      "\n"
     ]
    }
   ],
   "source": [
    "c = cholesky(B)  #A = c@c'\n",
    "print(np.allclose(B, c@c.T), \"\\n\")"
   ]
  },
  {
   "cell_type": "code",
   "execution_count": 72,
   "metadata": {},
   "outputs": [
    {
     "name": "stdout",
     "output_type": "stream",
     "text": [
      "Solution x from Cholesky decomposition:\n",
      "[ 255.85772214   52.2097322  -577.02114312 -469.10314857  592.88299097]\n",
      "\n",
      "Solution x from A inverse\n",
      "[ 255.85772214   52.2097322  -577.02114312 -469.10314857  592.88299097]\n"
     ]
    }
   ],
   "source": [
    "y = forward(c, b)\n",
    "x = backward(c.T, y)\n",
    "print(\"Solution x from Cholesky decomposition:\")\n",
    "print(x)\n",
    "\n",
    "print(\"\\nSolution x from A inverse\")\n",
    "print(np.linalg.inv(B).dot(b))"
   ]
  },
  {
   "cell_type": "code",
   "execution_count": 73,
   "metadata": {},
   "outputs": [
    {
     "name": "stdout",
     "output_type": "stream",
     "text": [
      "True\n"
     ]
    }
   ],
   "source": [
    "###################################\n",
    "#QR decomposition\n",
    "###################################\n",
    "Q, R = qr(A)\n",
    "print(np.allclose(A, Q@R))"
   ]
  },
  {
   "cell_type": "code",
   "execution_count": 74,
   "metadata": {},
   "outputs": [
    {
     "name": "stdout",
     "output_type": "stream",
     "text": [
      "Solution x from QR decomposition:\n",
      "[ 12.76083942   2.28155216 -26.85469595 -23.45033461  28.17326524]\n",
      "\n",
      "Solution x from A inverse\n",
      "[ 12.76083942   2.28155216 -26.85469595 -23.45033461  28.17326524]\n"
     ]
    }
   ],
   "source": [
    "x = backward(R, Q.T @ b)\n",
    "print(\"Solution x from QR decomposition:\")\n",
    "print(x)\n",
    "\n",
    "print(\"\\nSolution x from A inverse\")\n",
    "print(np.linalg.inv(A).dot(b))"
   ]
  },
  {
   "cell_type": "code",
   "execution_count": 75,
   "metadata": {},
   "outputs": [
    {
     "name": "stdout",
     "output_type": "stream",
     "text": [
      "True\n"
     ]
    }
   ],
   "source": [
    "###################################\n",
    "#SVD decomposition\n",
    "###################################\n",
    "U, S, Vh = svd(A)\n",
    "print(np.allclose(A, U @ np.diag(S) @ Vh))"
   ]
  },
  {
   "cell_type": "code",
   "execution_count": 76,
   "metadata": {},
   "outputs": [
    {
     "name": "stdout",
     "output_type": "stream",
     "text": [
      "Solution x from SVD decomposition:\n",
      "[ 12.76083942   2.28155216 -26.85469595 -23.45033461  28.17326524]\n",
      "\n",
      "Solution x from A inverse\n",
      "[ 12.76083942   2.28155216 -26.85469595 -23.45033461  28.17326524]\n"
     ]
    }
   ],
   "source": [
    "x = Vh.T @ np.diag(1/S) @ U.T @ b\n",
    "print(\"Solution x from SVD decomposition:\")\n",
    "print(x)\n",
    "\n",
    "print(\"\\nSolution x from A inverse\")\n",
    "print(np.linalg.inv(A).dot(b))"
   ]
  },
  {
   "cell_type": "markdown",
   "metadata": {},
   "source": [
    "### Equations - time"
   ]
  },
  {
   "cell_type": "code",
   "execution_count": 77,
   "metadata": {},
   "outputs": [
    {
     "name": "stdout",
     "output_type": "stream",
     "text": [
      "\n",
      "Solution x from PLU decomposition:\n",
      "Time =  0.025469064712524414\n",
      "\n",
      "Solution x from Cholesky decomposition:\n",
      "Time =  0.13914179801940918\n",
      "\n",
      "Solution x from QR decomposition:\n",
      "Time =  1.0981662273406982\n",
      "\n",
      "Solution x from SVD decomposition:\n",
      "Time =  0.5532040596008301\n",
      "\n",
      "Solution x from A inverse\n",
      "Time =  0.02708721160888672\n",
      "\n",
      "Solution x from Numpy solution(np.linalg.solve)\n",
      "Time =  0.00940704345703125\n"
     ]
    }
   ],
   "source": [
    "n = 1000\n",
    "A = np.random.randn(n,n)\n",
    "b = np.random.randn(n)\n",
    "\n",
    "###################################\n",
    "# LU Decomposition\n",
    "###################################\n",
    "# LU 분해 수행: A = P @ L @ U\n",
    "t0 = time.time()\n",
    "P, L, U = lu(A)\n",
    "Pb = np.dot(P.T, b)\n",
    "y = forward(L, Pb)\n",
    "x = backward(U, y)\n",
    "t1 = time.time()\n",
    "\n",
    "# 결과 출력\n",
    "print(\"\\nSolution x from PLU decomposition:\")\n",
    "print(\"Time = \", t1-t0)\n",
    "\n",
    "###################################\n",
    "#cholesky decomposition\n",
    "###################################\n",
    "B = A.T @ A\n",
    "\n",
    "t0 = time.time()\n",
    "c = cholesky(B)  #A = c@c'\n",
    "y = forward(c, b)\n",
    "x = backward(c.T, y)\n",
    "t1 = time.time()\n",
    "\n",
    "print(\"\\nSolution x from Cholesky decomposition:\")\n",
    "print(\"Time = \", t1-t0)\n",
    "\n",
    "###################################\n",
    "#QR decomposition\n",
    "###################################\n",
    "t0 = time.time()\n",
    "Q, R = qr(A)\n",
    "x = backward(R, Q.T @ b)\n",
    "t1 = time.time()\n",
    "\n",
    "print(\"\\nSolution x from QR decomposition:\")\n",
    "print(\"Time = \", t1-t0)\n",
    "\n",
    "###################################\n",
    "#SVD decomposition\n",
    "###################################\n",
    "t0 = time.time()\n",
    "U, S, Vh = svd(A)\n",
    "x = Vh.T @ np.diag(1/S) @ U.T @ b\n",
    "t1 = time.time()\n",
    "print(\"\\nSolution x from SVD decomposition:\")\n",
    "print(\"Time = \", t1-t0)\n",
    "\n",
    "###################################\n",
    "#A inverse\n",
    "###################################\n",
    "print(\"\\nSolution x from A inverse\")\n",
    "t0 = time.time()\n",
    "Ainv = np.linalg.inv(A)\n",
    "x = Ainv.dot(b)\n",
    "t1 = time.time()\n",
    "print(\"Time = \", t1-t0)\n",
    "\n",
    "###################################\n",
    "# Numpy solution\n",
    "###################################\n",
    "print(\"\\nSolution x from Numpy solution(np.linalg.solve)\")\n",
    "t0 = time.time()\n",
    "x = np.linalg.solve(A,b)\n",
    "t1 = time.time()\n",
    "print(\"Time = \", t1-t0)"
   ]
  },
  {
   "cell_type": "markdown",
   "metadata": {},
   "source": [
    "### Linear system iterative"
   ]
  },
  {
   "cell_type": "code",
   "execution_count": 80,
   "metadata": {},
   "outputs": [
    {
     "name": "stdout",
     "output_type": "stream",
     "text": [
      "Solution x from A inverse\n",
      "[-0.3125  2.875  -1.3125]\n"
     ]
    }
   ],
   "source": [
    "import numpy as np\n",
    "import matplotlib.pyplot as plt \n",
    "\n",
    "# 예제 행렬 A와 벡터 b 정의\n",
    "A = np.array([[1,2,3],[3,2,1],[5,1,1]], dtype=float)\n",
    "A = A.T@A # 이거 안하면 발산\n",
    "b = np.array([12,10,8], dtype=float)\n",
    "\n",
    "print(\"Solution x from A inverse\")\n",
    "sol = np.linalg.inv(A).dot(b)\n",
    "print(sol)"
   ]
  },
  {
   "cell_type": "code",
   "execution_count": 81,
   "metadata": {},
   "outputs": [
    {
     "data": {
      "image/png": "[encoded data removed]",
      "text/plain": [
       "<Figure size 640x480 with 1 Axes>"
      ]
     },
     "metadata": {},
     "output_type": "display_data"
    }
   ],
   "source": [
    "#Gauss-Seidel\n",
    "n = len(b)\n",
    "x = np.ones(n) #initial value\n",
    "idx = np.arange(n)\n",
    "iter = 50\n",
    "xs = np.empty((iter,n))\n",
    "for j in range(iter):\n",
    "    for i in range(n):\n",
    "        mask = idx!=i\n",
    "        x[i] = (b[i] - (A[i,mask] * x[mask]).sum()) / A[i,i]\n",
    "    xs[j,:] = x\n",
    "\n",
    "plt.plot(xs,'.-')\n",
    "for i in range(n):\n",
    "    plt.plot(np.arange(iter), np.ones(iter)*sol[i], \":y\")"
   ]
  },
  {
   "cell_type": "code",
   "execution_count": 88,
   "metadata": {},
   "outputs": [
    {
     "data": {
      "image/png": "[encoded data removed]",
      "text/plain": [
       "<Figure size 640x480 with 1 Axes>"
      ]
     },
     "metadata": {},
     "output_type": "display_data"
    }
   ],
   "source": [
    "#SOR\n",
    "omega = 0.5\n",
    "n = len(b)\n",
    "x = np.ones(n) #initial value\n",
    "iter = 50\n",
    "xs = np.empty((iter,n))\n",
    "for j in range(iter):\n",
    "    for i in range(n):\n",
    "        x[i] = x[i] + omega * (b[i] - (A[i,:] * x).sum()) / A[i,i]\n",
    "    xs[j,:] = x\n",
    "\n",
    "plt.plot(xs,'.-')\n",
    "for i in range(n):\n",
    "    plt.plot(np.arange(iter), np.ones(iter)*sol[i], \":y\")"
   ]
  },
  {
   "cell_type": "markdown",
   "metadata": {},
   "source": [
    "## Ch4. Finite Difference Method"
   ]
  },
  {
   "cell_type": "markdown",
   "metadata": {},
   "source": [
    "### 1 factor FDM"
   ]
  },
  {
   "cell_type": "code",
   "execution_count": 3,
   "metadata": {},
   "outputs": [
    {
     "name": "stdout",
     "output_type": "stream",
     "text": [
      "Analytic Price = 3.724086\n",
      "computation time =  0.000476837158203125 \n",
      "\n",
      "EX-FDM Price = 3.723938\n",
      "computation time =  0.09713983535766602 \n",
      "\n",
      "EX-FDM Price = 3.723938\n",
      "computation time =  0.6065318584442139 \n",
      "\n",
      "IM-FDM Price = 3.723837\n",
      "computation time =  0.5502662658691406 \n",
      "\n",
      "CN-FDM Price = 3.723888\n",
      "computation time =  0.542182207107544 \n",
      "\n"
     ]
    }
   ],
   "source": [
    "from FDM_blackscholes import bsprice\n",
    "from FDM_fdm import fdm_vanilla_option, exfdm_vanilla_option\n",
    "import numpy as np \n",
    "import time\n",
    "\n",
    "s = 100\n",
    "k = 100\n",
    "r = 0.03\n",
    "q = 0.01\n",
    "t = 0.25\n",
    "sigma = 0.2\n",
    "optionType = 'put'\n",
    "\n",
    "#Analytic Formula\n",
    "t0 = time.time()\n",
    "price = bsprice(s,k,r,q,t,sigma,optionType)\n",
    "print(f\"Analytic Price = {price:0.6f}\")\n",
    "print(\"computation time = \", time.time()-t0, \"\\n\")\n",
    "\n",
    "maxS, n, m = s*2, 1000, 10000\n",
    "t0 = time.time()\n",
    "v, ex_price = exfdm_vanilla_option(s, k, r, q, t, sigma, optionType, \n",
    "                                   maxS, n, m)\n",
    "print(f\"EX-FDM Price = {ex_price:0.6f}\")\n",
    "print(\"computation time = \", time.time()-t0, \"\\n\")\n",
    "\n",
    "t0 = time.time()\n",
    "v, ex_price = fdm_vanilla_option(s, k, r, q, t, sigma, optionType, \n",
    "                                   maxS, n, m, 0)\n",
    "print(f\"EX-FDM Price = {ex_price:0.6f}\")\n",
    "print(\"computation time = \", time.time()-t0, \"\\n\")\n",
    "\n",
    "t0 = time.time()\n",
    "v, im_price = fdm_vanilla_option(s, k, r, q, t, sigma, optionType, \n",
    "                                   maxS, n, m)\n",
    "print(f\"IM-FDM Price = {im_price:0.6f}\")\n",
    "print(\"computation time = \", time.time()-t0, \"\\n\")\n",
    "\n",
    "t0 = time.time()\n",
    "v, cn_price = fdm_vanilla_option(s, k, r, q, t, sigma, optionType, \n",
    "                                   maxS, n, m, 0.5)\n",
    "print(f\"CN-FDM Price = {cn_price:0.6f}\")\n",
    "print(\"computation time = \", time.time()-t0, \"\\n\")"
   ]
  },
  {
   "cell_type": "code",
   "execution_count": 15,
   "metadata": {},
   "outputs": [
    {
     "name": "stdout",
     "output_type": "stream",
     "text": [
      "EX-FDM Price = -0.300684\n",
      "EX-FDM Price = -0.300684\n",
      "IM-FDM Price = 3.723835\n",
      "CN-FDM Price = 3.723888\n"
     ]
    }
   ],
   "source": [
    "'''\n",
    "Explicit FDM이 빠르고 좋아보이지만, 수치적 불안정성 문제가 있을 수 있어 안쓰는게 좋음\n",
    "특히, 델타s<델타t인 경우, 발산할 가능성이 큼. 변동성이 커도 발산할 가능성이 큼.\n",
    "정밀도는 s에 달려있어서 수렴성을 고려하면 잘 안써야하는게 맞음\n",
    "'''\n",
    "maxS, n, m = s*2, 1000, 9500\n",
    "v, ex_price = exfdm_vanilla_option(s, k, r, q, t, sigma, optionType, \n",
    "                                maxS, n, m)\n",
    "print(f\"EX-FDM Price = {ex_price:0.6f}\")\n",
    "\n",
    "v, ex_price = fdm_vanilla_option(s, k, r, q, t, sigma, optionType, \n",
    "                                maxS, n, m, 0)\n",
    "print(f\"EX-FDM Price = {ex_price:0.6f}\")\n",
    "\n",
    "v, im_price = fdm_vanilla_option(s, k, r, q, t, sigma, optionType, \n",
    "                                maxS, n, m)\n",
    "print(f\"IM-FDM Price = {im_price:0.6f}\")\n",
    "\n",
    "v, cn_price = fdm_vanilla_option(s, k, r, q, t, sigma, optionType, \n",
    "                                maxS, n, m, 0.5)\n",
    "print(f\"CN-FDM Price = {cn_price:0.6f}\")"
   ]
  },
  {
   "cell_type": "markdown",
   "metadata": {},
   "source": []
  }
 ],
 "metadata": {
  "kernelspec": {
   "display_name": "hwan",
   "language": "python",
   "name": "python3"
  },
  "language_info": {
   "codemirror_mode": {
    "name": "ipython",
    "version": 3
   },
   "file_extension": ".py",
   "mimetype": "text/x-python",
   "name": "python",
   "nbconvert_exporter": "python",
   "pygments_lexer": "ipython3",
   "version": "3.10.14"
  }
 },
 "nbformat": 4,
 "nbformat_minor": 2
}
